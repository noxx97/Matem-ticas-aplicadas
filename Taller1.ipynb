{
  "nbformat": 4,
  "nbformat_minor": 0,
  "metadata": {
    "colab": {
      "provenance": [],
      "include_colab_link": true
    },
    "kernelspec": {
      "name": "python3",
      "display_name": "Python 3"
    },
    "language_info": {
      "name": "python"
    }
  },
  "cells": [
    {
      "cell_type": "markdown",
      "metadata": {
        "id": "view-in-github",
        "colab_type": "text"
      },
      "source": [
        "<a href=\"https://colab.research.google.com/github/noxx97/Matem-ticas-aplicadas/blob/main/Taller1.ipynb\" target=\"_parent\"><img src=\"https://colab.research.google.com/assets/colab-badge.svg\" alt=\"Open In Colab\"/></a>"
      ]
    },
    {
      "cell_type": "code",
      "execution_count": null,
      "metadata": {
        "id": "Nso38sJxj6fd"
      },
      "outputs": [],
      "source": [
        "print(\"kkk\")"
      ]
    },
    {
      "cell_type": "code",
      "source": [
        "print(\"Hola mundo\")"
      ],
      "metadata": {
        "id": "yrH37oWCo6cQ",
        "outputId": "90978d1e-4d51-4d91-93d9-2efebc3def15",
        "colab": {
          "base_uri": "https://localhost:8080/"
        }
      },
      "execution_count": null,
      "outputs": [
        {
          "output_type": "stream",
          "name": "stdout",
          "text": [
            "Hola mundo\n"
          ]
        }
      ]
    },
    {
      "cell_type": "code",
      "source": [
        "import math\n",
        "\n",
        "def raiz_cuadrada(numero):\n",
        "  \"\"\"\n",
        "  Esta función calcula la raíz cuadrada de un número.\n",
        "  \"\"\"\n",
        "  return math.sqrt(numero)\n",
        "\n",
        "numero = float(input(\"Ingrese un número: \"))\n",
        "resultado = raiz_cuadrada(numero)\n",
        "print(\"La raíz cuadrada de\", numero, \"es:\", resultado)\n"
      ],
      "metadata": {
        "id": "6UNOiHgzpheS"
      },
      "execution_count": null,
      "outputs": []
    },
    {
      "cell_type": "markdown",
      "source": [
        "#**Taller 1**\n",
        "\n",
        "***Punto 1***\n",
        "\n",
        "*solución de polinomios*\n",
        "\n",
        "\n",
        "***Punto 3***\n",
        "\n",
        "*3.3*\n",
        "\n",
        "petroleo=float([76.65, 75.34, 75.03,\n",
        "} ])\n",
        "\n",
        "pcocacola= 3.500\n",
        "\n",
        "pbarrilcocacola= pcocacola * litrosporbarril"
      ],
      "metadata": {
        "id": "NuUT_6dmp55Y"
      }
    },
    {
      "cell_type": "code",
      "source": [
        "petro=[76.65, 75.34, 75.03, 78.85, 80.79, 80.65, 79.58 ]"
      ],
      "metadata": {
        "id": "lGqYN4Vd0mUl"
      },
      "execution_count": 17,
      "outputs": []
    },
    {
      "cell_type": "code",
      "source": [
        "plitrococa=0.84"
      ],
      "metadata": {
        "id": "UdwA75Ya00Pw"
      },
      "execution_count": 18,
      "outputs": []
    },
    {
      "cell_type": "code",
      "source": [
        "litrosporbarril=159"
      ],
      "metadata": {
        "id": "d_lVy3ml07sC"
      },
      "execution_count": 19,
      "outputs": []
    },
    {
      "cell_type": "code",
      "source": [
        "pbarrilcoca=plitrococa*litrosporbarril"
      ],
      "metadata": {
        "id": "EjmOBIlV26Go"
      },
      "execution_count": 20,
      "outputs": []
    },
    {
      "cell_type": "code",
      "source": [
        "for x in petro:\n",
        "  print(x/pbarrilcoca)"
      ],
      "metadata": {
        "id": "K4hGBIYj3Cju",
        "outputId": "ef77dc85-6ce5-47c3-a619-40d799a23373",
        "colab": {
          "base_uri": "https://localhost:8080/"
        }
      },
      "execution_count": 21,
      "outputs": [
        {
          "output_type": "stream",
          "name": "stdout",
          "text": [
            "0.5738993710691824\n",
            "0.5640910452231207\n",
            "0.561769991015274\n",
            "0.5903713686732555\n",
            "0.6048966756513927\n",
            "0.6038484576220425\n",
            "0.5958370769691524\n"
          ]
        }
      ]
    },
    {
      "cell_type": "markdown",
      "source": [
        "#**Conclusión**\n",
        "Al comparar el precio de un barril de Coca-Cola con el precio equ\n",
        "***1***\n"
      ],
      "metadata": {
        "id": "q1bESrxQ4piR"
      }
    }
  ]
}