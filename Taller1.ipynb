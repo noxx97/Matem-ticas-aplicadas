{
  "nbformat": 4,
  "nbformat_minor": 0,
  "metadata": {
    "colab": {
      "provenance": [],
      "include_colab_link": true
    },
    "kernelspec": {
      "name": "python3",
      "display_name": "Python 3"
    },
    "language_info": {
      "name": "python"
    }
  },
  "cells": [
    {
      "cell_type": "markdown",
      "metadata": {
        "id": "view-in-github",
        "colab_type": "text"
      },
      "source": [
        "<a href=\"https://colab.research.google.com/github/noxx97/Matem-ticas-aplicadas/blob/main/Taller1.ipynb\" target=\"_parent\"><img src=\"https://colab.research.google.com/assets/colab-badge.svg\" alt=\"Open In Colab\"/></a>"
      ]
    },
    {
      "cell_type": "code",
      "execution_count": null,
      "metadata": {
        "id": "Nso38sJxj6fd"
      },
      "outputs": [],
      "source": [
        "print(\"kkk\")"
      ]
    },
    {
      "cell_type": "code",
      "source": [
        "print(\"Hola mundo\")"
      ],
      "metadata": {
        "id": "yrH37oWCo6cQ",
        "outputId": "90978d1e-4d51-4d91-93d9-2efebc3def15",
        "colab": {
          "base_uri": "https://localhost:8080/"
        }
      },
      "execution_count": null,
      "outputs": [
        {
          "output_type": "stream",
          "name": "stdout",
          "text": [
            "Hola mundo\n"
          ]
        }
      ]
    },
    {
      "cell_type": "code",
      "source": [
        "import math\n",
        "\n",
        "def raiz_cuadrada(numero):\n",
        "  \"\"\"\n",
        "  Esta función calcula la raíz cuadrada de un número.\n",
        "  \"\"\"\n",
        "  return math.sqrt(numero)\n",
        "\n",
        "numero = float(input(\"Ingrese un número: \"))\n",
        "resultado = raiz_cuadrada(numero)\n",
        "print(\"La raíz cuadrada de\", numero, \"es:\", resultado)\n"
      ],
      "metadata": {
        "id": "6UNOiHgzpheS"
      },
      "execution_count": null,
      "outputs": []
    },
    {
      "cell_type": "markdown",
      "source": [
        "#**Taller 1**\n",
        "\n",
        "***Punto 1***\n",
        "\n",
        "*solución de polinomios*\n",
        "\n",
        "\n",
        "***Punto 3***\n",
        "\n",
        "*3.3*\n",
        "\n"
      ],
      "metadata": {
        "id": "NuUT_6dmp55Y"
      }
    },
    {
      "cell_type": "code",
      "source": [
        "petro=[76.65, 75.34, 75.03, 78.85, 80.79, 80.65, 79.58 ]"
      ],
      "metadata": {
        "id": "lGqYN4Vd0mUl"
      },
      "execution_count": 17,
      "outputs": []
    },
    {
      "cell_type": "code",
      "source": [
        "plitrococa=0.84"
      ],
      "metadata": {
        "id": "UdwA75Ya00Pw"
      },
      "execution_count": 18,
      "outputs": []
    },
    {
      "cell_type": "code",
      "source": [
        "litrosporbarril=159"
      ],
      "metadata": {
        "id": "d_lVy3ml07sC"
      },
      "execution_count": 19,
      "outputs": []
    },
    {
      "cell_type": "code",
      "source": [
        "pbarrilcoca=plitrococa*litrosporbarril"
      ],
      "metadata": {
        "id": "EjmOBIlV26Go"
      },
      "execution_count": 20,
      "outputs": []
    },
    {
      "cell_type": "code",
      "source": [
        "for x in petro:\n",
        "  print(x/pbarrilcoca)"
      ],
      "metadata": {
        "colab": {
          "base_uri": "https://localhost:8080/"
        },
        "id": "K4hGBIYj3Cju",
        "outputId": "ef77dc85-6ce5-47c3-a619-40d799a23373"
      },
      "execution_count": 21,
      "outputs": [
        {
          "output_type": "stream",
          "name": "stdout",
          "text": [
            "0.5738993710691824\n",
            "0.5640910452231207\n",
            "0.561769991015274\n",
            "0.5903713686732555\n",
            "0.6048966756513927\n",
            "0.6038484576220425\n",
            "0.5958370769691524\n"
          ]
        }
      ]
    },
    {
      "cell_type": "markdown",
      "source": [
        "#**Conclusión**\n",
        "Al comparar el precio de un barril de Coca-Cola con el precio equivalente de un barril de petroleo, podemos observar que:\n",
        "\n",
        "***1***. El precio del petróleo es mucho más volátil y susceptible a fluctuaciones debido a factores geopolíticos, económicos y de oferta y demanda.\n",
        "\n",
        "***2***. El precio de un barril de Coca-Cola es casi el doble que el de un barril de petroleo, ya que incluye costos de producción distribución, marketing y otros factores que le confieren un valor agregado más allá de su composición básica.\n"
      ],
      "metadata": {
        "id": "q1bESrxQ4piR"
      }
    },
    {
      "cell_type": "markdown",
      "source": [
        "*3.4*"
      ],
      "metadata": {
        "id": "DNofNinZ63Fe"
      }
    },
    {
      "cell_type": "code",
      "source": [
        "ahorro=[5,15,25,35,45,55,65,75,85,95,105,115,125,135,145]"
      ],
      "metadata": {
        "id": "O-hYWGbh_ZSr"
      },
      "execution_count": 50,
      "outputs": []
    },
    {
      "cell_type": "code",
      "source": [
        "ahorro_mes=[x*12 for x in ahorro]\n",
        "print(ahorro_mes)"
      ],
      "metadata": {
        "colab": {
          "base_uri": "https://localhost:8080/"
        },
        "id": "MBtoPXk9_rYl",
        "outputId": "4b99af3c-cf0b-4a7e-f3ca-5b2601810040"
      },
      "execution_count": 51,
      "outputs": [
        {
          "output_type": "stream",
          "name": "stdout",
          "text": [
            "[60, 180, 300, 420, 540, 660, 780, 900, 1020, 1140, 1260, 1380, 1500, 1620, 1740]\n"
          ]
        }
      ]
    },
    {
      "cell_type": "code",
      "source": [
        "sum(ahorro_mes)"
      ],
      "metadata": {
        "colab": {
          "base_uri": "https://localhost:8080/"
        },
        "id": "FwJ900LfA0Cr",
        "outputId": "690a0da9-7ca0-44af-8f68-e9cfd8c8ca77"
      },
      "execution_count": 52,
      "outputs": [
        {
          "output_type": "execute_result",
          "data": {
            "text/plain": [
              "13500"
            ]
          },
          "metadata": {},
          "execution_count": 52
        }
      ]
    },
    {
      "cell_type": "code",
      "source": [],
      "metadata": {
        "id": "5tvkC_Z9_H7l"
      },
      "execution_count": null,
      "outputs": []
    }
  ]
}