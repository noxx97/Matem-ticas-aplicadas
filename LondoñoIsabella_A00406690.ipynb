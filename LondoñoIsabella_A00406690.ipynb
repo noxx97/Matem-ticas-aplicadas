{
  "nbformat": 4,
  "nbformat_minor": 0,
  "metadata": {
    "colab": {
      "provenance": [],
      "authorship_tag": "ABX9TyNRi5xl/7Xv9vXpI9Ees19V",
      "include_colab_link": true
    },
    "kernelspec": {
      "name": "python3",
      "display_name": "Python 3"
    },
    "language_info": {
      "name": "python"
    }
  },
  "cells": [
    {
      "cell_type": "markdown",
      "metadata": {
        "id": "view-in-github",
        "colab_type": "text"
      },
      "source": [
        "<a href=\"https://colab.research.google.com/github/noxx97/Matem-ticas-aplicadas/blob/main/Londo%C3%B1oIsabella_A00406690.ipynb\" target=\"_parent\"><img src=\"https://colab.research.google.com/assets/colab-badge.svg\" alt=\"Open In Colab\"/></a>"
      ]
    },
    {
      "cell_type": "code",
      "execution_count": null,
      "metadata": {
        "id": "v13Zc-KLnKn-"
      },
      "outputs": [],
      "source": []
    },
    {
      "cell_type": "markdown",
      "source": [
        "##***Autobiografía***##\n",
        "\n",
        "Mi nombre es Isabella Londoño, tengo 17 años y nací en Buga. Desde pequeña he cultivado una profunda pasión por la música; toco el piano y canto, habilidades que han sido una parte fundamental en mi vida. Además, tengo un interés profundo en la física, especialmente en la física cuántica. Aunque contemplé la posibilidad de estudiar esta disciplina, circunstancias imprevistas impidieron que siguiera ese camino.\n",
        "Tengo un gato que se llama Kaos y lo adoro con todo mi corazón.\n",
        "Me gusta mucho el anime y me encanta viajar con mis amigos a diversas partes del mundo."
      ],
      "metadata": {
        "id": "YFUJtsswnbnC"
      }
    }
  ]
}