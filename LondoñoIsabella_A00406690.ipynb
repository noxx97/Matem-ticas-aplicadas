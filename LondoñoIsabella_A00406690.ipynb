{
  "nbformat": 4,
  "nbformat_minor": 0,
  "metadata": {
    "colab": {
      "provenance": [],
      "collapsed_sections": [
        "YFUJtsswnbnC"
      ],
      "authorship_tag": "ABX9TyPmk1B154zNr/BO5opop/th",
      "include_colab_link": true
    },
    "kernelspec": {
      "name": "python3",
      "display_name": "Python 3"
    },
    "language_info": {
      "name": "python"
    }
  },
  "cells": [
    {
      "cell_type": "markdown",
      "metadata": {
        "id": "view-in-github",
        "colab_type": "text"
      },
      "source": [
        "<a href=\"https://colab.research.google.com/github/noxx97/Matem-ticas-aplicadas/blob/main/Londo%C3%B1oIsabella_A00406690.ipynb\" target=\"_parent\"><img src=\"https://colab.research.google.com/assets/colab-badge.svg\" alt=\"Open In Colab\"/></a>"
      ]
    },
    {
      "cell_type": "code",
      "execution_count": null,
      "metadata": {
        "id": "v13Zc-KLnKn-"
      },
      "outputs": [],
      "source": []
    },
    {
      "cell_type": "markdown",
      "source": [
        "##***Autobiografía***\n",
        "\n",
        "Mi nombre es Isabella Londoño, nací el 3 de noviembre de 2006, tengo 17 años y soy de Buga. Desde pequeña he cultivado una profunda pasión por la música; toco el piano y canto, habilidades que han sido una parte fundamental en mi vida. Además, tengo un interés profundo en la física, especialmente en la física cuántica. Aunque contemplé la posibilidad de estudiar esta disciplina, circunstancias imprevistas impidieron que siguiera ese camino. Usualmente vivo en buga con mis papás, mi hermana y un gato que se llama Kaos y lo adoro con todo mi corazón. Me gusta mucho el anime, especialmente si es sangriento, y me encanta viajar con mis amigos a diversas partes del mundo. En el último viaje que hice con mis amigos, probé la mejor pizza de mi vida, visitamos milán, suiza y fuimos al parque disney en París, fue un viaje totamente inolvidable y me quedaron muchisimos recuerdos increibles con personas que quiero muchisimo.\n",
        "\n"
      ],
      "metadata": {
        "id": "YFUJtsswnbnC"
      }
    },
    {
      "cell_type": "markdown",
      "source": [
        "<img src=\"https://tresubresdobles.com/wp-content/uploads/2022/09/skft-ea5979e30a9e3a63e5f970d3703f1bc4.jpg\" width=\"200\" height=\"200\">\n",
        "\n",
        "\n",
        "\n"
      ],
      "metadata": {
        "id": "mvK6TyvUruix"
      }
    },
    {
      "cell_type": "markdown",
      "source": [
        ">*Amor completo*\n",
        ">>*Mon Laferte*\n",
        ">>>*Mon Laferte*\n",
        "\n",
        ">*Flaca*\n",
        ">>*Andrés Calamaro*\n",
        ">>>*Andrés Calamaro*\n",
        "\n",
        ">*Querer querernos*\n",
        ">>*Canserbero*\n",
        ">>>*Caserbero*\n",
        "\n",
        ">*Trátame suavemente*\n",
        ">>*Soda Stereo*\n",
        ">>>*Soda Stereo*\n",
        "\n",
        ">*High School Sweethearts*\n",
        ">>*Melanie Martinez*\n",
        ">>>*Melanie Martinez*\n"
      ],
      "metadata": {
        "id": "jjQ_8YkMvKMi"
      }
    },
    {
      "cell_type": "markdown",
      "source": [
        "|Aignatura  | Razón                                           |\n",
        "|-----------|-------------------------------------------------|\n",
        "|Física     |Ayuda a entender cómo funciona el universo       |\n",
        "|-----------|-------------------------------------------------|\n",
        "|Lenguaje   | Me encanta leer                                 |\n"
      ],
      "metadata": {
        "id": "vRimLf1Ux3hE"
      }
    },
    {
      "cell_type": "code",
      "source": [],
      "metadata": {
        "id": "noy6ex5U0Azu"
      },
      "execution_count": null,
      "outputs": []
    },
    {
      "cell_type": "code",
      "source": [],
      "metadata": {
        "id": "mgiLrh7w0Bcx"
      },
      "execution_count": null,
      "outputs": []
    }
  ]
}